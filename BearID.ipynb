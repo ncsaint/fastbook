{
  "nbformat": 4,
  "nbformat_minor": 0,
  "metadata": {
    "colab": {
      "provenance": [],
      "collapsed_sections": [],
      "authorship_tag": "ABX9TyMN8hOriLrHINV9405YOiRg",
      "include_colab_link": true
    },
    "kernelspec": {
      "name": "python3",
      "display_name": "Python 3"
    },
    "language_info": {
      "name": "python"
    },
    "accelerator": "GPU",
    "gpuClass": "standard",
    "widgets": {
      "application/vnd.jupyter.widget-state+json": {
        "f121d76b2323409b88886493c09e7a8c": {
          "model_module": "@jupyter-widgets/controls",
          "model_name": "HBoxModel",
          "model_module_version": "1.5.0",
          "state": {
            "_dom_classes": [],
            "_model_module": "@jupyter-widgets/controls",
            "_model_module_version": "1.5.0",
            "_model_name": "HBoxModel",
            "_view_count": null,
            "_view_module": "@jupyter-widgets/controls",
            "_view_module_version": "1.5.0",
            "_view_name": "HBoxView",
            "box_style": "",
            "children": [
              "IPY_MODEL_a54836a307514df7877ae5991a04753f",
              "IPY_MODEL_93e33ebb91f04d3bb41661868522a739",
              "IPY_MODEL_e84b0f17dff947e3ba2d9ef5a064df77"
            ],
            "layout": "IPY_MODEL_bd80e84dc6d94cc1894e9e2478cf9be6"
          }
        },
        "a54836a307514df7877ae5991a04753f": {
          "model_module": "@jupyter-widgets/controls",
          "model_name": "HTMLModel",
          "model_module_version": "1.5.0",
          "state": {
            "_dom_classes": [],
            "_model_module": "@jupyter-widgets/controls",
            "_model_module_version": "1.5.0",
            "_model_name": "HTMLModel",
            "_view_count": null,
            "_view_module": "@jupyter-widgets/controls",
            "_view_module_version": "1.5.0",
            "_view_name": "HTMLView",
            "description": "",
            "description_tooltip": null,
            "layout": "IPY_MODEL_d94564ef25d44d35b074f4508c1fd739",
            "placeholder": "​",
            "style": "IPY_MODEL_bcc233b4d84c486eb98cddd2546a3a2a",
            "value": "100%"
          }
        },
        "93e33ebb91f04d3bb41661868522a739": {
          "model_module": "@jupyter-widgets/controls",
          "model_name": "FloatProgressModel",
          "model_module_version": "1.5.0",
          "state": {
            "_dom_classes": [],
            "_model_module": "@jupyter-widgets/controls",
            "_model_module_version": "1.5.0",
            "_model_name": "FloatProgressModel",
            "_view_count": null,
            "_view_module": "@jupyter-widgets/controls",
            "_view_module_version": "1.5.0",
            "_view_name": "ProgressView",
            "bar_style": "success",
            "description": "",
            "description_tooltip": null,
            "layout": "IPY_MODEL_7d1ad4f9a2994e31ac895dfc5ff3cc2a",
            "max": 46830571,
            "min": 0,
            "orientation": "horizontal",
            "style": "IPY_MODEL_42f75992a0e941e1b7c64c91d463ba8e",
            "value": 46830571
          }
        },
        "e84b0f17dff947e3ba2d9ef5a064df77": {
          "model_module": "@jupyter-widgets/controls",
          "model_name": "HTMLModel",
          "model_module_version": "1.5.0",
          "state": {
            "_dom_classes": [],
            "_model_module": "@jupyter-widgets/controls",
            "_model_module_version": "1.5.0",
            "_model_name": "HTMLModel",
            "_view_count": null,
            "_view_module": "@jupyter-widgets/controls",
            "_view_module_version": "1.5.0",
            "_view_name": "HTMLView",
            "description": "",
            "description_tooltip": null,
            "layout": "IPY_MODEL_b6ca1339d24e4885af15e88eb6a53c2b",
            "placeholder": "​",
            "style": "IPY_MODEL_8f236dcb46df41c79f5d1226c439e7de",
            "value": " 44.7M/44.7M [00:00&lt;00:00, 168MB/s]"
          }
        },
        "bd80e84dc6d94cc1894e9e2478cf9be6": {
          "model_module": "@jupyter-widgets/base",
          "model_name": "LayoutModel",
          "model_module_version": "1.2.0",
          "state": {
            "_model_module": "@jupyter-widgets/base",
            "_model_module_version": "1.2.0",
            "_model_name": "LayoutModel",
            "_view_count": null,
            "_view_module": "@jupyter-widgets/base",
            "_view_module_version": "1.2.0",
            "_view_name": "LayoutView",
            "align_content": null,
            "align_items": null,
            "align_self": null,
            "border": null,
            "bottom": null,
            "display": null,
            "flex": null,
            "flex_flow": null,
            "grid_area": null,
            "grid_auto_columns": null,
            "grid_auto_flow": null,
            "grid_auto_rows": null,
            "grid_column": null,
            "grid_gap": null,
            "grid_row": null,
            "grid_template_areas": null,
            "grid_template_columns": null,
            "grid_template_rows": null,
            "height": null,
            "justify_content": null,
            "justify_items": null,
            "left": null,
            "margin": null,
            "max_height": null,
            "max_width": null,
            "min_height": null,
            "min_width": null,
            "object_fit": null,
            "object_position": null,
            "order": null,
            "overflow": null,
            "overflow_x": null,
            "overflow_y": null,
            "padding": null,
            "right": null,
            "top": null,
            "visibility": null,
            "width": null
          }
        },
        "d94564ef25d44d35b074f4508c1fd739": {
          "model_module": "@jupyter-widgets/base",
          "model_name": "LayoutModel",
          "model_module_version": "1.2.0",
          "state": {
            "_model_module": "@jupyter-widgets/base",
            "_model_module_version": "1.2.0",
            "_model_name": "LayoutModel",
            "_view_count": null,
            "_view_module": "@jupyter-widgets/base",
            "_view_module_version": "1.2.0",
            "_view_name": "LayoutView",
            "align_content": null,
            "align_items": null,
            "align_self": null,
            "border": null,
            "bottom": null,
            "display": null,
            "flex": null,
            "flex_flow": null,
            "grid_area": null,
            "grid_auto_columns": null,
            "grid_auto_flow": null,
            "grid_auto_rows": null,
            "grid_column": null,
            "grid_gap": null,
            "grid_row": null,
            "grid_template_areas": null,
            "grid_template_columns": null,
            "grid_template_rows": null,
            "height": null,
            "justify_content": null,
            "justify_items": null,
            "left": null,
            "margin": null,
            "max_height": null,
            "max_width": null,
            "min_height": null,
            "min_width": null,
            "object_fit": null,
            "object_position": null,
            "order": null,
            "overflow": null,
            "overflow_x": null,
            "overflow_y": null,
            "padding": null,
            "right": null,
            "top": null,
            "visibility": null,
            "width": null
          }
        },
        "bcc233b4d84c486eb98cddd2546a3a2a": {
          "model_module": "@jupyter-widgets/controls",
          "model_name": "DescriptionStyleModel",
          "model_module_version": "1.5.0",
          "state": {
            "_model_module": "@jupyter-widgets/controls",
            "_model_module_version": "1.5.0",
            "_model_name": "DescriptionStyleModel",
            "_view_count": null,
            "_view_module": "@jupyter-widgets/base",
            "_view_module_version": "1.2.0",
            "_view_name": "StyleView",
            "description_width": ""
          }
        },
        "7d1ad4f9a2994e31ac895dfc5ff3cc2a": {
          "model_module": "@jupyter-widgets/base",
          "model_name": "LayoutModel",
          "model_module_version": "1.2.0",
          "state": {
            "_model_module": "@jupyter-widgets/base",
            "_model_module_version": "1.2.0",
            "_model_name": "LayoutModel",
            "_view_count": null,
            "_view_module": "@jupyter-widgets/base",
            "_view_module_version": "1.2.0",
            "_view_name": "LayoutView",
            "align_content": null,
            "align_items": null,
            "align_self": null,
            "border": null,
            "bottom": null,
            "display": null,
            "flex": null,
            "flex_flow": null,
            "grid_area": null,
            "grid_auto_columns": null,
            "grid_auto_flow": null,
            "grid_auto_rows": null,
            "grid_column": null,
            "grid_gap": null,
            "grid_row": null,
            "grid_template_areas": null,
            "grid_template_columns": null,
            "grid_template_rows": null,
            "height": null,
            "justify_content": null,
            "justify_items": null,
            "left": null,
            "margin": null,
            "max_height": null,
            "max_width": null,
            "min_height": null,
            "min_width": null,
            "object_fit": null,
            "object_position": null,
            "order": null,
            "overflow": null,
            "overflow_x": null,
            "overflow_y": null,
            "padding": null,
            "right": null,
            "top": null,
            "visibility": null,
            "width": null
          }
        },
        "42f75992a0e941e1b7c64c91d463ba8e": {
          "model_module": "@jupyter-widgets/controls",
          "model_name": "ProgressStyleModel",
          "model_module_version": "1.5.0",
          "state": {
            "_model_module": "@jupyter-widgets/controls",
            "_model_module_version": "1.5.0",
            "_model_name": "ProgressStyleModel",
            "_view_count": null,
            "_view_module": "@jupyter-widgets/base",
            "_view_module_version": "1.2.0",
            "_view_name": "StyleView",
            "bar_color": null,
            "description_width": ""
          }
        },
        "b6ca1339d24e4885af15e88eb6a53c2b": {
          "model_module": "@jupyter-widgets/base",
          "model_name": "LayoutModel",
          "model_module_version": "1.2.0",
          "state": {
            "_model_module": "@jupyter-widgets/base",
            "_model_module_version": "1.2.0",
            "_model_name": "LayoutModel",
            "_view_count": null,
            "_view_module": "@jupyter-widgets/base",
            "_view_module_version": "1.2.0",
            "_view_name": "LayoutView",
            "align_content": null,
            "align_items": null,
            "align_self": null,
            "border": null,
            "bottom": null,
            "display": null,
            "flex": null,
            "flex_flow": null,
            "grid_area": null,
            "grid_auto_columns": null,
            "grid_auto_flow": null,
            "grid_auto_rows": null,
            "grid_column": null,
            "grid_gap": null,
            "grid_row": null,
            "grid_template_areas": null,
            "grid_template_columns": null,
            "grid_template_rows": null,
            "height": null,
            "justify_content": null,
            "justify_items": null,
            "left": null,
            "margin": null,
            "max_height": null,
            "max_width": null,
            "min_height": null,
            "min_width": null,
            "object_fit": null,
            "object_position": null,
            "order": null,
            "overflow": null,
            "overflow_x": null,
            "overflow_y": null,
            "padding": null,
            "right": null,
            "top": null,
            "visibility": null,
            "width": null
          }
        },
        "8f236dcb46df41c79f5d1226c439e7de": {
          "model_module": "@jupyter-widgets/controls",
          "model_name": "DescriptionStyleModel",
          "model_module_version": "1.5.0",
          "state": {
            "_model_module": "@jupyter-widgets/controls",
            "_model_module_version": "1.5.0",
            "_model_name": "DescriptionStyleModel",
            "_view_count": null,
            "_view_module": "@jupyter-widgets/base",
            "_view_module_version": "1.2.0",
            "_view_name": "StyleView",
            "description_width": ""
          }
        },
        "104aba7349fe4b3e949881545025a4b9": {
          "model_module": "@jupyter-widgets/controls",
          "model_name": "FileUploadModel",
          "model_module_version": "1.5.0",
          "state": {
            "_counter": 1,
            "_dom_classes": [],
            "_model_module": "@jupyter-widgets/controls",
            "_model_module_version": "1.5.0",
            "_model_name": "FileUploadModel",
            "_view_count": null,
            "_view_module": "@jupyter-widgets/controls",
            "_view_module_version": "1.5.0",
            "_view_name": "FileUploadView",
            "accept": "",
            "button_style": "",
            "data": [
              null
            ],
            "description": "Upload",
            "description_tooltip": null,
            "disabled": false,
            "error": "",
            "icon": "upload",
            "layout": "IPY_MODEL_3e05241a135b467aaf837e4c3ad2a5ca",
            "metadata": [
              {
                "name": "grizzlybear.jfif",
                "type": "image/jpeg",
                "size": 6157,
                "lastModified": 1662673995960
              }
            ],
            "multiple": false,
            "style": "IPY_MODEL_654ecb09f8144ba7a3c7182b0dfe75ff"
          }
        },
        "3e05241a135b467aaf837e4c3ad2a5ca": {
          "model_module": "@jupyter-widgets/base",
          "model_name": "LayoutModel",
          "model_module_version": "1.2.0",
          "state": {
            "_model_module": "@jupyter-widgets/base",
            "_model_module_version": "1.2.0",
            "_model_name": "LayoutModel",
            "_view_count": null,
            "_view_module": "@jupyter-widgets/base",
            "_view_module_version": "1.2.0",
            "_view_name": "LayoutView",
            "align_content": null,
            "align_items": null,
            "align_self": null,
            "border": null,
            "bottom": null,
            "display": null,
            "flex": null,
            "flex_flow": null,
            "grid_area": null,
            "grid_auto_columns": null,
            "grid_auto_flow": null,
            "grid_auto_rows": null,
            "grid_column": null,
            "grid_gap": null,
            "grid_row": null,
            "grid_template_areas": null,
            "grid_template_columns": null,
            "grid_template_rows": null,
            "height": null,
            "justify_content": null,
            "justify_items": null,
            "left": null,
            "margin": null,
            "max_height": null,
            "max_width": null,
            "min_height": null,
            "min_width": null,
            "object_fit": null,
            "object_position": null,
            "order": null,
            "overflow": null,
            "overflow_x": null,
            "overflow_y": null,
            "padding": null,
            "right": null,
            "top": null,
            "visibility": null,
            "width": null
          }
        },
        "654ecb09f8144ba7a3c7182b0dfe75ff": {
          "model_module": "@jupyter-widgets/controls",
          "model_name": "ButtonStyleModel",
          "model_module_version": "1.5.0",
          "state": {
            "_model_module": "@jupyter-widgets/controls",
            "_model_module_version": "1.5.0",
            "_model_name": "ButtonStyleModel",
            "_view_count": null,
            "_view_module": "@jupyter-widgets/base",
            "_view_module_version": "1.2.0",
            "_view_name": "StyleView",
            "button_color": null,
            "font_weight": ""
          }
        },
        "f8a6ea97287b4a64901926aabeabc4ad": {
          "model_module": "@jupyter-widgets/output",
          "model_name": "OutputModel",
          "model_module_version": "1.0.0",
          "state": {
            "_dom_classes": [],
            "_model_module": "@jupyter-widgets/output",
            "_model_module_version": "1.0.0",
            "_model_name": "OutputModel",
            "_view_count": null,
            "_view_module": "@jupyter-widgets/output",
            "_view_module_version": "1.0.0",
            "_view_name": "OutputView",
            "layout": "IPY_MODEL_99e94502bbc3421da413fa6666bef239",
            "msg_id": "",
            "outputs": [
              {
                "output_type": "display_data",
                "data": {
                  "text/plain": "<PIL.Image.Image image mode=RGB size=128x85>",
                  "image/png": "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\n"
                },
                "metadata": {}
              }
            ]
          }
        },
        "99e94502bbc3421da413fa6666bef239": {
          "model_module": "@jupyter-widgets/base",
          "model_name": "LayoutModel",
          "model_module_version": "1.2.0",
          "state": {
            "_model_module": "@jupyter-widgets/base",
            "_model_module_version": "1.2.0",
            "_model_name": "LayoutModel",
            "_view_count": null,
            "_view_module": "@jupyter-widgets/base",
            "_view_module_version": "1.2.0",
            "_view_name": "LayoutView",
            "align_content": null,
            "align_items": null,
            "align_self": null,
            "border": null,
            "bottom": null,
            "display": null,
            "flex": null,
            "flex_flow": null,
            "grid_area": null,
            "grid_auto_columns": null,
            "grid_auto_flow": null,
            "grid_auto_rows": null,
            "grid_column": null,
            "grid_gap": null,
            "grid_row": null,
            "grid_template_areas": null,
            "grid_template_columns": null,
            "grid_template_rows": null,
            "height": null,
            "justify_content": null,
            "justify_items": null,
            "left": null,
            "margin": null,
            "max_height": null,
            "max_width": null,
            "min_height": null,
            "min_width": null,
            "object_fit": null,
            "object_position": null,
            "order": null,
            "overflow": null,
            "overflow_x": null,
            "overflow_y": null,
            "padding": null,
            "right": null,
            "top": null,
            "visibility": null,
            "width": null
          }
        },
        "114aa4becfbb41afb6de8b9521baabd1": {
          "model_module": "@jupyter-widgets/controls",
          "model_name": "LabelModel",
          "model_module_version": "1.5.0",
          "state": {
            "_dom_classes": [],
            "_model_module": "@jupyter-widgets/controls",
            "_model_module_version": "1.5.0",
            "_model_name": "LabelModel",
            "_view_count": null,
            "_view_module": "@jupyter-widgets/controls",
            "_view_module_version": "1.5.0",
            "_view_name": "LabelView",
            "description": "",
            "description_tooltip": null,
            "layout": "IPY_MODEL_4348f7f12f06479080f8ef05f3af7be0",
            "placeholder": "​",
            "style": "IPY_MODEL_644e2a0b3aab406795fb2e25f93627f4",
            "value": "Prediction: grizzly; Probability: 0.9953"
          }
        },
        "4348f7f12f06479080f8ef05f3af7be0": {
          "model_module": "@jupyter-widgets/base",
          "model_name": "LayoutModel",
          "model_module_version": "1.2.0",
          "state": {
            "_model_module": "@jupyter-widgets/base",
            "_model_module_version": "1.2.0",
            "_model_name": "LayoutModel",
            "_view_count": null,
            "_view_module": "@jupyter-widgets/base",
            "_view_module_version": "1.2.0",
            "_view_name": "LayoutView",
            "align_content": null,
            "align_items": null,
            "align_self": null,
            "border": null,
            "bottom": null,
            "display": null,
            "flex": null,
            "flex_flow": null,
            "grid_area": null,
            "grid_auto_columns": null,
            "grid_auto_flow": null,
            "grid_auto_rows": null,
            "grid_column": null,
            "grid_gap": null,
            "grid_row": null,
            "grid_template_areas": null,
            "grid_template_columns": null,
            "grid_template_rows": null,
            "height": null,
            "justify_content": null,
            "justify_items": null,
            "left": null,
            "margin": null,
            "max_height": null,
            "max_width": null,
            "min_height": null,
            "min_width": null,
            "object_fit": null,
            "object_position": null,
            "order": null,
            "overflow": null,
            "overflow_x": null,
            "overflow_y": null,
            "padding": null,
            "right": null,
            "top": null,
            "visibility": null,
            "width": null
          }
        },
        "644e2a0b3aab406795fb2e25f93627f4": {
          "model_module": "@jupyter-widgets/controls",
          "model_name": "DescriptionStyleModel",
          "model_module_version": "1.5.0",
          "state": {
            "_model_module": "@jupyter-widgets/controls",
            "_model_module_version": "1.5.0",
            "_model_name": "DescriptionStyleModel",
            "_view_count": null,
            "_view_module": "@jupyter-widgets/base",
            "_view_module_version": "1.2.0",
            "_view_name": "StyleView",
            "description_width": ""
          }
        },
        "8765a1e0704e423989efd650a7905636": {
          "model_module": "@jupyter-widgets/controls",
          "model_name": "ButtonModel",
          "model_module_version": "1.5.0",
          "state": {
            "_dom_classes": [],
            "_model_module": "@jupyter-widgets/controls",
            "_model_module_version": "1.5.0",
            "_model_name": "ButtonModel",
            "_view_count": null,
            "_view_module": "@jupyter-widgets/controls",
            "_view_module_version": "1.5.0",
            "_view_name": "ButtonView",
            "button_style": "",
            "description": "Classify",
            "disabled": false,
            "icon": "",
            "layout": "IPY_MODEL_5cd477ba667a4f35bdb9744f93bba655",
            "style": "IPY_MODEL_24c99cb36b324f7c96ce310d85974ca7",
            "tooltip": ""
          }
        },
        "5cd477ba667a4f35bdb9744f93bba655": {
          "model_module": "@jupyter-widgets/base",
          "model_name": "LayoutModel",
          "model_module_version": "1.2.0",
          "state": {
            "_model_module": "@jupyter-widgets/base",
            "_model_module_version": "1.2.0",
            "_model_name": "LayoutModel",
            "_view_count": null,
            "_view_module": "@jupyter-widgets/base",
            "_view_module_version": "1.2.0",
            "_view_name": "LayoutView",
            "align_content": null,
            "align_items": null,
            "align_self": null,
            "border": null,
            "bottom": null,
            "display": null,
            "flex": null,
            "flex_flow": null,
            "grid_area": null,
            "grid_auto_columns": null,
            "grid_auto_flow": null,
            "grid_auto_rows": null,
            "grid_column": null,
            "grid_gap": null,
            "grid_row": null,
            "grid_template_areas": null,
            "grid_template_columns": null,
            "grid_template_rows": null,
            "height": null,
            "justify_content": null,
            "justify_items": null,
            "left": null,
            "margin": null,
            "max_height": null,
            "max_width": null,
            "min_height": null,
            "min_width": null,
            "object_fit": null,
            "object_position": null,
            "order": null,
            "overflow": null,
            "overflow_x": null,
            "overflow_y": null,
            "padding": null,
            "right": null,
            "top": null,
            "visibility": null,
            "width": null
          }
        },
        "24c99cb36b324f7c96ce310d85974ca7": {
          "model_module": "@jupyter-widgets/controls",
          "model_name": "ButtonStyleModel",
          "model_module_version": "1.5.0",
          "state": {
            "_model_module": "@jupyter-widgets/controls",
            "_model_module_version": "1.5.0",
            "_model_name": "ButtonStyleModel",
            "_view_count": null,
            "_view_module": "@jupyter-widgets/base",
            "_view_module_version": "1.2.0",
            "_view_name": "StyleView",
            "button_color": null,
            "font_weight": ""
          }
        },
        "dfe60286e06d443d8944799f2d6c2609": {
          "model_module": "@jupyter-widgets/controls",
          "model_name": "VBoxModel",
          "model_module_version": "1.5.0",
          "state": {
            "_dom_classes": [],
            "_model_module": "@jupyter-widgets/controls",
            "_model_module_version": "1.5.0",
            "_model_name": "VBoxModel",
            "_view_count": null,
            "_view_module": "@jupyter-widgets/controls",
            "_view_module_version": "1.5.0",
            "_view_name": "VBoxView",
            "box_style": "",
            "children": [
              "IPY_MODEL_6f2dc39f3a8045c584a9bf83fca1642c",
              "IPY_MODEL_23d6de85879b4671a62d02bbfdb7c7b9",
              "IPY_MODEL_8765a1e0704e423989efd650a7905636",
              "IPY_MODEL_f8a6ea97287b4a64901926aabeabc4ad",
              "IPY_MODEL_114aa4becfbb41afb6de8b9521baabd1"
            ],
            "layout": "IPY_MODEL_1fede77aad374e999606f15e5306125d"
          }
        },
        "6f2dc39f3a8045c584a9bf83fca1642c": {
          "model_module": "@jupyter-widgets/controls",
          "model_name": "LabelModel",
          "model_module_version": "1.5.0",
          "state": {
            "_dom_classes": [],
            "_model_module": "@jupyter-widgets/controls",
            "_model_module_version": "1.5.0",
            "_model_name": "LabelModel",
            "_view_count": null,
            "_view_module": "@jupyter-widgets/controls",
            "_view_module_version": "1.5.0",
            "_view_name": "LabelView",
            "description": "",
            "description_tooltip": null,
            "layout": "IPY_MODEL_5c7a22592f46419aac97e174d2c67021",
            "placeholder": "​",
            "style": "IPY_MODEL_d92399adb33943bf84b8a419d92b8c45",
            "value": "Select your bear!"
          }
        },
        "23d6de85879b4671a62d02bbfdb7c7b9": {
          "model_module": "@jupyter-widgets/controls",
          "model_name": "FileUploadModel",
          "model_module_version": "1.5.0",
          "state": {
            "_counter": 0,
            "_dom_classes": [],
            "_model_module": "@jupyter-widgets/controls",
            "_model_module_version": "1.5.0",
            "_model_name": "FileUploadModel",
            "_view_count": null,
            "_view_module": "@jupyter-widgets/controls",
            "_view_module_version": "1.5.0",
            "_view_name": "FileUploadView",
            "accept": "",
            "button_style": "",
            "data": [],
            "description": "Upload",
            "description_tooltip": null,
            "disabled": false,
            "error": "",
            "icon": "upload",
            "layout": "IPY_MODEL_983edebbe1f74d42a0c95ffade5db7ef",
            "metadata": [],
            "multiple": false,
            "style": "IPY_MODEL_720fc1fe1d154f42887434eeb89fc92b"
          }
        },
        "1fede77aad374e999606f15e5306125d": {
          "model_module": "@jupyter-widgets/base",
          "model_name": "LayoutModel",
          "model_module_version": "1.2.0",
          "state": {
            "_model_module": "@jupyter-widgets/base",
            "_model_module_version": "1.2.0",
            "_model_name": "LayoutModel",
            "_view_count": null,
            "_view_module": "@jupyter-widgets/base",
            "_view_module_version": "1.2.0",
            "_view_name": "LayoutView",
            "align_content": null,
            "align_items": null,
            "align_self": null,
            "border": null,
            "bottom": null,
            "display": null,
            "flex": null,
            "flex_flow": null,
            "grid_area": null,
            "grid_auto_columns": null,
            "grid_auto_flow": null,
            "grid_auto_rows": null,
            "grid_column": null,
            "grid_gap": null,
            "grid_row": null,
            "grid_template_areas": null,
            "grid_template_columns": null,
            "grid_template_rows": null,
            "height": null,
            "justify_content": null,
            "justify_items": null,
            "left": null,
            "margin": null,
            "max_height": null,
            "max_width": null,
            "min_height": null,
            "min_width": null,
            "object_fit": null,
            "object_position": null,
            "order": null,
            "overflow": null,
            "overflow_x": null,
            "overflow_y": null,
            "padding": null,
            "right": null,
            "top": null,
            "visibility": null,
            "width": null
          }
        },
        "5c7a22592f46419aac97e174d2c67021": {
          "model_module": "@jupyter-widgets/base",
          "model_name": "LayoutModel",
          "model_module_version": "1.2.0",
          "state": {
            "_model_module": "@jupyter-widgets/base",
            "_model_module_version": "1.2.0",
            "_model_name": "LayoutModel",
            "_view_count": null,
            "_view_module": "@jupyter-widgets/base",
            "_view_module_version": "1.2.0",
            "_view_name": "LayoutView",
            "align_content": null,
            "align_items": null,
            "align_self": null,
            "border": null,
            "bottom": null,
            "display": null,
            "flex": null,
            "flex_flow": null,
            "grid_area": null,
            "grid_auto_columns": null,
            "grid_auto_flow": null,
            "grid_auto_rows": null,
            "grid_column": null,
            "grid_gap": null,
            "grid_row": null,
            "grid_template_areas": null,
            "grid_template_columns": null,
            "grid_template_rows": null,
            "height": null,
            "justify_content": null,
            "justify_items": null,
            "left": null,
            "margin": null,
            "max_height": null,
            "max_width": null,
            "min_height": null,
            "min_width": null,
            "object_fit": null,
            "object_position": null,
            "order": null,
            "overflow": null,
            "overflow_x": null,
            "overflow_y": null,
            "padding": null,
            "right": null,
            "top": null,
            "visibility": null,
            "width": null
          }
        },
        "d92399adb33943bf84b8a419d92b8c45": {
          "model_module": "@jupyter-widgets/controls",
          "model_name": "DescriptionStyleModel",
          "model_module_version": "1.5.0",
          "state": {
            "_model_module": "@jupyter-widgets/controls",
            "_model_module_version": "1.5.0",
            "_model_name": "DescriptionStyleModel",
            "_view_count": null,
            "_view_module": "@jupyter-widgets/base",
            "_view_module_version": "1.2.0",
            "_view_name": "StyleView",
            "description_width": ""
          }
        },
        "983edebbe1f74d42a0c95ffade5db7ef": {
          "model_module": "@jupyter-widgets/base",
          "model_name": "LayoutModel",
          "model_module_version": "1.2.0",
          "state": {
            "_model_module": "@jupyter-widgets/base",
            "_model_module_version": "1.2.0",
            "_model_name": "LayoutModel",
            "_view_count": null,
            "_view_module": "@jupyter-widgets/base",
            "_view_module_version": "1.2.0",
            "_view_name": "LayoutView",
            "align_content": null,
            "align_items": null,
            "align_self": null,
            "border": null,
            "bottom": null,
            "display": null,
            "flex": null,
            "flex_flow": null,
            "grid_area": null,
            "grid_auto_columns": null,
            "grid_auto_flow": null,
            "grid_auto_rows": null,
            "grid_column": null,
            "grid_gap": null,
            "grid_row": null,
            "grid_template_areas": null,
            "grid_template_columns": null,
            "grid_template_rows": null,
            "height": null,
            "justify_content": null,
            "justify_items": null,
            "left": null,
            "margin": null,
            "max_height": null,
            "max_width": null,
            "min_height": null,
            "min_width": null,
            "object_fit": null,
            "object_position": null,
            "order": null,
            "overflow": null,
            "overflow_x": null,
            "overflow_y": null,
            "padding": null,
            "right": null,
            "top": null,
            "visibility": null,
            "width": null
          }
        },
        "720fc1fe1d154f42887434eeb89fc92b": {
          "model_module": "@jupyter-widgets/controls",
          "model_name": "ButtonStyleModel",
          "model_module_version": "1.5.0",
          "state": {
            "_model_module": "@jupyter-widgets/controls",
            "_model_module_version": "1.5.0",
            "_model_name": "ButtonStyleModel",
            "_view_count": null,
            "_view_module": "@jupyter-widgets/base",
            "_view_module_version": "1.2.0",
            "_view_name": "StyleView",
            "button_color": null,
            "font_weight": ""
          }
        }
      }
    }
  },
  "cells": [
    {
      "cell_type": "markdown",
      "metadata": {
        "id": "view-in-github",
        "colab_type": "text"
      },
      "source": [
        "<a href=\"https://colab.research.google.com/github/ncsaint/fastbook/blob/master/BearID.ipynb\" target=\"_parent\"><img src=\"https://colab.research.google.com/assets/colab-badge.svg\" alt=\"Open In Colab\"/></a>"
      ]
    },
    {
      "cell_type": "code",
      "execution_count": 1,
      "metadata": {
        "colab": {
          "base_uri": "https://localhost:8080/"
        },
        "id": "eABhF1dp3YmB",
        "outputId": "354e7a68-a746-473b-9f9e-77adb44d9056"
      },
      "outputs": [
        {
          "output_type": "stream",
          "name": "stdout",
          "text": [
            "\u001b[K     |████████████████████████████████| 719 kB 4.9 MB/s \n",
            "\u001b[K     |████████████████████████████████| 365 kB 54.4 MB/s \n",
            "\u001b[K     |████████████████████████████████| 1.3 MB 52.4 MB/s \n",
            "\u001b[K     |████████████████████████████████| 4.7 MB 47.6 MB/s \n",
            "\u001b[K     |████████████████████████████████| 115 kB 53.7 MB/s \n",
            "\u001b[K     |████████████████████████████████| 120 kB 53.7 MB/s \n",
            "\u001b[K     |████████████████████████████████| 212 kB 56.8 MB/s \n",
            "\u001b[K     |████████████████████████████████| 127 kB 60.1 MB/s \n",
            "\u001b[K     |████████████████████████████████| 6.6 MB 46.4 MB/s \n",
            "\u001b[?25hMounted at /content/gdrive\n"
          ]
        }
      ],
      "source": [
        "! [ -e /content ] && pip install -Uqq fastbook\n",
        "import fastbook\n",
        "fastbook.setup_book()"
      ]
    },
    {
      "cell_type": "code",
      "source": [
        "from fastbook import *\n",
        "from fastai.vision.widgets import *"
      ],
      "metadata": {
        "id": "dpaLViIs3f-D"
      },
      "execution_count": 2,
      "outputs": []
    },
    {
      "cell_type": "code",
      "source": [
        "key = os.environ.get('AZURE_SEARCH_KEY', '2c87e56c9f2c49f183cdfd13a90ac902')"
      ],
      "metadata": {
        "id": "S83a0aFx3qhU"
      },
      "execution_count": 3,
      "outputs": []
    },
    {
      "cell_type": "code",
      "source": [
        "bear_types = 'grizzly','black','teddy'\n",
        "path = Path('bears')\n",
        "\n",
        "if not path.exists():\n",
        "    path.mkdir()\n",
        "    for o in bear_types:\n",
        "        dest = (path/o)\n",
        "        dest.mkdir(exist_ok=True)\n",
        "        results = search_images_bing(key, f'{o} bear')\n",
        "        download_images(dest, urls=results.attrgot('contentUrl'))"
      ],
      "metadata": {
        "id": "T4kQTlFP33tI"
      },
      "execution_count": 4,
      "outputs": []
    },
    {
      "cell_type": "code",
      "source": [
        "fns = get_image_files(path)\n",
        "failed = verify_images(fns)\n",
        "failed.map(Path.unlink);"
      ],
      "metadata": {
        "id": "7n8Qqw0Q37JR"
      },
      "execution_count": 6,
      "outputs": []
    },
    {
      "cell_type": "code",
      "source": [
        "bears = DataBlock(\n",
        "    blocks=(ImageBlock, CategoryBlock), \n",
        "    get_items=get_image_files, \n",
        "    splitter=RandomSplitter(valid_pct=0.2, seed=42),\n",
        "    get_y=parent_label,\n",
        "    item_tfms=Resize(128))"
      ],
      "metadata": {
        "id": "u2qy0lpE4FsZ"
      },
      "execution_count": 7,
      "outputs": []
    },
    {
      "cell_type": "code",
      "source": [
        "bears = bears.new(\n",
        "    item_tfms=RandomResizedCrop(224, min_scale=0.5),\n",
        "    batch_tfms=aug_transforms())\n",
        "dls = bears.dataloaders(path)"
      ],
      "metadata": {
        "id": "Ee5tRUtM4NBh"
      },
      "execution_count": 8,
      "outputs": []
    },
    {
      "cell_type": "code",
      "source": [
        "learn = vision_learner(dls, resnet18, metrics=error_rate)\n",
        "learn.fine_tune(4)"
      ],
      "metadata": {
        "colab": {
          "base_uri": "https://localhost:8080/",
          "height": 377,
          "referenced_widgets": [
            "f121d76b2323409b88886493c09e7a8c",
            "a54836a307514df7877ae5991a04753f",
            "93e33ebb91f04d3bb41661868522a739",
            "e84b0f17dff947e3ba2d9ef5a064df77",
            "bd80e84dc6d94cc1894e9e2478cf9be6",
            "d94564ef25d44d35b074f4508c1fd739",
            "bcc233b4d84c486eb98cddd2546a3a2a",
            "7d1ad4f9a2994e31ac895dfc5ff3cc2a",
            "42f75992a0e941e1b7c64c91d463ba8e",
            "b6ca1339d24e4885af15e88eb6a53c2b",
            "8f236dcb46df41c79f5d1226c439e7de"
          ]
        },
        "id": "NP_lMRJn4aKU",
        "outputId": "698d476f-b617-42b5-9fe7-2d07f056f5c6"
      },
      "execution_count": 9,
      "outputs": [
        {
          "output_type": "stream",
          "name": "stderr",
          "text": [
            "/usr/local/lib/python3.7/dist-packages/torchvision/models/_utils.py:209: UserWarning: The parameter 'pretrained' is deprecated since 0.13 and will be removed in 0.15, please use 'weights' instead.\n",
            "  f\"The parameter '{pretrained_param}' is deprecated since 0.13 and will be removed in 0.15, \"\n",
            "/usr/local/lib/python3.7/dist-packages/torchvision/models/_utils.py:223: UserWarning: Arguments other than a weight enum or `None` for 'weights' are deprecated since 0.13 and will be removed in 0.15. The current behavior is equivalent to passing `weights=ResNet18_Weights.IMAGENET1K_V1`. You can also use `weights=ResNet18_Weights.DEFAULT` to get the most up-to-date weights.\n",
            "  warnings.warn(msg)\n",
            "Downloading: \"https://download.pytorch.org/models/resnet18-f37072fd.pth\" to /root/.cache/torch/hub/checkpoints/resnet18-f37072fd.pth\n"
          ]
        },
        {
          "output_type": "display_data",
          "data": {
            "text/plain": [
              "  0%|          | 0.00/44.7M [00:00<?, ?B/s]"
            ],
            "application/vnd.jupyter.widget-view+json": {
              "version_major": 2,
              "version_minor": 0,
              "model_id": "f121d76b2323409b88886493c09e7a8c"
            }
          },
          "metadata": {}
        },
        {
          "output_type": "display_data",
          "data": {
            "text/plain": [
              "<IPython.core.display.HTML object>"
            ],
            "text/html": [
              "\n",
              "<style>\n",
              "    /* Turns off some styling */\n",
              "    progress {\n",
              "        /* gets rid of default border in Firefox and Opera. */\n",
              "        border: none;\n",
              "        /* Needs to be in here for Safari polyfill so background images work as expected. */\n",
              "        background-size: auto;\n",
              "    }\n",
              "    progress:not([value]), progress:not([value])::-webkit-progress-bar {\n",
              "        background: repeating-linear-gradient(45deg, #7e7e7e, #7e7e7e 10px, #5c5c5c 10px, #5c5c5c 20px);\n",
              "    }\n",
              "    .progress-bar-interrupted, .progress-bar-interrupted::-webkit-progress-bar {\n",
              "        background: #F44336;\n",
              "    }\n",
              "</style>\n"
            ]
          },
          "metadata": {}
        },
        {
          "output_type": "display_data",
          "data": {
            "text/plain": [
              "<IPython.core.display.HTML object>"
            ],
            "text/html": [
              "<table border=\"1\" class=\"dataframe\">\n",
              "  <thead>\n",
              "    <tr style=\"text-align: left;\">\n",
              "      <th>epoch</th>\n",
              "      <th>train_loss</th>\n",
              "      <th>valid_loss</th>\n",
              "      <th>error_rate</th>\n",
              "      <th>time</th>\n",
              "    </tr>\n",
              "  </thead>\n",
              "  <tbody>\n",
              "    <tr>\n",
              "      <td>0</td>\n",
              "      <td>1.266151</td>\n",
              "      <td>0.125204</td>\n",
              "      <td>0.047059</td>\n",
              "      <td>00:31</td>\n",
              "    </tr>\n",
              "  </tbody>\n",
              "</table>"
            ]
          },
          "metadata": {}
        },
        {
          "output_type": "display_data",
          "data": {
            "text/plain": [
              "<IPython.core.display.HTML object>"
            ],
            "text/html": [
              "\n",
              "<style>\n",
              "    /* Turns off some styling */\n",
              "    progress {\n",
              "        /* gets rid of default border in Firefox and Opera. */\n",
              "        border: none;\n",
              "        /* Needs to be in here for Safari polyfill so background images work as expected. */\n",
              "        background-size: auto;\n",
              "    }\n",
              "    progress:not([value]), progress:not([value])::-webkit-progress-bar {\n",
              "        background: repeating-linear-gradient(45deg, #7e7e7e, #7e7e7e 10px, #5c5c5c 10px, #5c5c5c 20px);\n",
              "    }\n",
              "    .progress-bar-interrupted, .progress-bar-interrupted::-webkit-progress-bar {\n",
              "        background: #F44336;\n",
              "    }\n",
              "</style>\n"
            ]
          },
          "metadata": {}
        },
        {
          "output_type": "display_data",
          "data": {
            "text/plain": [
              "<IPython.core.display.HTML object>"
            ],
            "text/html": [
              "<table border=\"1\" class=\"dataframe\">\n",
              "  <thead>\n",
              "    <tr style=\"text-align: left;\">\n",
              "      <th>epoch</th>\n",
              "      <th>train_loss</th>\n",
              "      <th>valid_loss</th>\n",
              "      <th>error_rate</th>\n",
              "      <th>time</th>\n",
              "    </tr>\n",
              "  </thead>\n",
              "  <tbody>\n",
              "    <tr>\n",
              "      <td>0</td>\n",
              "      <td>0.125783</td>\n",
              "      <td>0.058726</td>\n",
              "      <td>0.023529</td>\n",
              "      <td>00:32</td>\n",
              "    </tr>\n",
              "    <tr>\n",
              "      <td>1</td>\n",
              "      <td>0.117522</td>\n",
              "      <td>0.068841</td>\n",
              "      <td>0.011765</td>\n",
              "      <td>00:31</td>\n",
              "    </tr>\n",
              "    <tr>\n",
              "      <td>2</td>\n",
              "      <td>0.100346</td>\n",
              "      <td>0.110116</td>\n",
              "      <td>0.011765</td>\n",
              "      <td>00:31</td>\n",
              "    </tr>\n",
              "    <tr>\n",
              "      <td>3</td>\n",
              "      <td>0.082046</td>\n",
              "      <td>0.099665</td>\n",
              "      <td>0.011765</td>\n",
              "      <td>00:29</td>\n",
              "    </tr>\n",
              "  </tbody>\n",
              "</table>"
            ]
          },
          "metadata": {}
        }
      ]
    },
    {
      "cell_type": "code",
      "source": [
        "learn.export()"
      ],
      "metadata": {
        "id": "kYUFgU1y6Rq5"
      },
      "execution_count": 10,
      "outputs": []
    },
    {
      "cell_type": "code",
      "source": [
        "path = Path()\n",
        "path.ls(file_exts='.pkl')"
      ],
      "metadata": {
        "colab": {
          "base_uri": "https://localhost:8080/"
        },
        "id": "NtqeOMsf6UYd",
        "outputId": "f6bdbdbb-9c94-4f22-a8e4-451a60f32ff1"
      },
      "execution_count": 11,
      "outputs": [
        {
          "output_type": "execute_result",
          "data": {
            "text/plain": [
              "(#1) [Path('export.pkl')]"
            ]
          },
          "metadata": {},
          "execution_count": 11
        }
      ]
    },
    {
      "cell_type": "code",
      "source": [
        "learn_inf = load_learner(path/'export.pkl')"
      ],
      "metadata": {
        "id": "vy0YkXX26Z4R"
      },
      "execution_count": 12,
      "outputs": []
    },
    {
      "cell_type": "code",
      "source": [
        "btn_upload = widgets.FileUpload()\n",
        "btn_upload"
      ],
      "metadata": {
        "colab": {
          "base_uri": "https://localhost:8080/",
          "height": 49,
          "referenced_widgets": [
            "104aba7349fe4b3e949881545025a4b9",
            "3e05241a135b467aaf837e4c3ad2a5ca",
            "654ecb09f8144ba7a3c7182b0dfe75ff"
          ]
        },
        "id": "7nDop4KV6eKS",
        "outputId": "296819d9-7bc8-4cfa-c0f4-c89f4f3dbd21"
      },
      "execution_count": 13,
      "outputs": [
        {
          "output_type": "display_data",
          "data": {
            "text/plain": [
              "FileUpload(value={}, description='Upload')"
            ],
            "application/vnd.jupyter.widget-view+json": {
              "version_major": 2,
              "version_minor": 0,
              "model_id": "104aba7349fe4b3e949881545025a4b9"
            }
          },
          "metadata": {}
        }
      ]
    },
    {
      "cell_type": "code",
      "source": [
        "img = PILImage.create(btn_upload.data[-1])\n",
        "\n",
        "out_pl = widgets.Output()\n",
        "out_pl.clear_output()\n",
        "with out_pl: display(img.to_thumb(128,128))\n",
        "out_pl"
      ],
      "metadata": {
        "colab": {
          "base_uri": "https://localhost:8080/",
          "height": 102,
          "referenced_widgets": [
            "f8a6ea97287b4a64901926aabeabc4ad",
            "99e94502bbc3421da413fa6666bef239"
          ]
        },
        "id": "1lHW5mO96qHC",
        "outputId": "49396779-541f-426c-d5e7-2a01a76d559f"
      },
      "execution_count": 16,
      "outputs": [
        {
          "output_type": "display_data",
          "data": {
            "text/plain": [
              "Output()"
            ],
            "application/vnd.jupyter.widget-view+json": {
              "version_major": 2,
              "version_minor": 0,
              "model_id": "f8a6ea97287b4a64901926aabeabc4ad"
            }
          },
          "metadata": {}
        }
      ]
    },
    {
      "cell_type": "code",
      "source": [
        "pred,pred_idx,probs = learn_inf.predict(img)"
      ],
      "metadata": {
        "colab": {
          "base_uri": "https://localhost:8080/",
          "height": 17
        },
        "id": "USf6Rnkz6-S0",
        "outputId": "e1a5879a-d19c-4d61-c546-34ab171fe28b"
      },
      "execution_count": 17,
      "outputs": [
        {
          "output_type": "display_data",
          "data": {
            "text/plain": [
              "<IPython.core.display.HTML object>"
            ],
            "text/html": [
              "\n",
              "<style>\n",
              "    /* Turns off some styling */\n",
              "    progress {\n",
              "        /* gets rid of default border in Firefox and Opera. */\n",
              "        border: none;\n",
              "        /* Needs to be in here for Safari polyfill so background images work as expected. */\n",
              "        background-size: auto;\n",
              "    }\n",
              "    progress:not([value]), progress:not([value])::-webkit-progress-bar {\n",
              "        background: repeating-linear-gradient(45deg, #7e7e7e, #7e7e7e 10px, #5c5c5c 10px, #5c5c5c 20px);\n",
              "    }\n",
              "    .progress-bar-interrupted, .progress-bar-interrupted::-webkit-progress-bar {\n",
              "        background: #F44336;\n",
              "    }\n",
              "</style>\n"
            ]
          },
          "metadata": {}
        },
        {
          "output_type": "display_data",
          "data": {
            "text/plain": [
              "<IPython.core.display.HTML object>"
            ],
            "text/html": []
          },
          "metadata": {}
        }
      ]
    },
    {
      "cell_type": "code",
      "source": [
        "lbl_pred = widgets.Label()\n",
        "lbl_pred.value = f'Prediction: {pred}; Probability: {probs[pred_idx]:.04f}'\n",
        "lbl_pred"
      ],
      "metadata": {
        "colab": {
          "base_uri": "https://localhost:8080/",
          "height": 49,
          "referenced_widgets": [
            "114aa4becfbb41afb6de8b9521baabd1",
            "4348f7f12f06479080f8ef05f3af7be0",
            "644e2a0b3aab406795fb2e25f93627f4"
          ]
        },
        "id": "Q-hqSQSu7Ged",
        "outputId": "8db164d7-4f38-42d3-bc96-693809306907"
      },
      "execution_count": 18,
      "outputs": [
        {
          "output_type": "display_data",
          "data": {
            "text/plain": [
              "Label(value='Prediction: grizzly; Probability: 0.9953')"
            ],
            "application/vnd.jupyter.widget-view+json": {
              "version_major": 2,
              "version_minor": 0,
              "model_id": "114aa4becfbb41afb6de8b9521baabd1"
            }
          },
          "metadata": {}
        }
      ]
    },
    {
      "cell_type": "code",
      "source": [
        "btn_run = widgets.Button(description='Classify')\n",
        "btn_run"
      ],
      "metadata": {
        "colab": {
          "base_uri": "https://localhost:8080/",
          "height": 49,
          "referenced_widgets": [
            "8765a1e0704e423989efd650a7905636",
            "5cd477ba667a4f35bdb9744f93bba655",
            "24c99cb36b324f7c96ce310d85974ca7"
          ]
        },
        "id": "hbgcYqdl7Pgx",
        "outputId": "591da162-d621-4388-ce9c-597872ad26bf"
      },
      "execution_count": 19,
      "outputs": [
        {
          "output_type": "display_data",
          "data": {
            "text/plain": [
              "Button(description='Classify', style=ButtonStyle())"
            ],
            "application/vnd.jupyter.widget-view+json": {
              "version_major": 2,
              "version_minor": 0,
              "model_id": "8765a1e0704e423989efd650a7905636"
            }
          },
          "metadata": {}
        },
        {
          "output_type": "display_data",
          "data": {
            "text/plain": [
              "<IPython.core.display.HTML object>"
            ],
            "text/html": [
              "\n",
              "<style>\n",
              "    /* Turns off some styling */\n",
              "    progress {\n",
              "        /* gets rid of default border in Firefox and Opera. */\n",
              "        border: none;\n",
              "        /* Needs to be in here for Safari polyfill so background images work as expected. */\n",
              "        background-size: auto;\n",
              "    }\n",
              "    progress:not([value]), progress:not([value])::-webkit-progress-bar {\n",
              "        background: repeating-linear-gradient(45deg, #7e7e7e, #7e7e7e 10px, #5c5c5c 10px, #5c5c5c 20px);\n",
              "    }\n",
              "    .progress-bar-interrupted, .progress-bar-interrupted::-webkit-progress-bar {\n",
              "        background: #F44336;\n",
              "    }\n",
              "</style>\n"
            ]
          },
          "metadata": {}
        },
        {
          "output_type": "display_data",
          "data": {
            "text/plain": [
              "<IPython.core.display.HTML object>"
            ],
            "text/html": []
          },
          "metadata": {}
        }
      ]
    },
    {
      "cell_type": "code",
      "source": [
        "def on_click_classify(change):\n",
        "    img = PILImage.create(btn_upload.data[-1])\n",
        "    out_pl.clear_output()\n",
        "    with out_pl: display(img.to_thumb(128,128))\n",
        "    pred,pred_idx,probs = learn_inf.predict(img)\n",
        "    lbl_pred.value = f'Prediction: {pred}; Probability: {probs[pred_idx]:.04f}'\n",
        "\n",
        "btn_run.on_click(on_click_classify)"
      ],
      "metadata": {
        "id": "v07wjfgy7P7f"
      },
      "execution_count": 20,
      "outputs": []
    },
    {
      "cell_type": "code",
      "source": [
        "btn_upload = widgets.FileUpload()"
      ],
      "metadata": {
        "id": "EIS7Vw5Y7g1H"
      },
      "execution_count": 21,
      "outputs": []
    },
    {
      "cell_type": "code",
      "source": [
        "VBox([widgets.Label('Select your bear!'), \n",
        "      btn_upload, btn_run, out_pl, lbl_pred])"
      ],
      "metadata": {
        "colab": {
          "base_uri": "https://localhost:8080/",
          "height": 230,
          "referenced_widgets": [
            "dfe60286e06d443d8944799f2d6c2609",
            "6f2dc39f3a8045c584a9bf83fca1642c",
            "23d6de85879b4671a62d02bbfdb7c7b9",
            "8765a1e0704e423989efd650a7905636",
            "f8a6ea97287b4a64901926aabeabc4ad",
            "114aa4becfbb41afb6de8b9521baabd1",
            "1fede77aad374e999606f15e5306125d",
            "5c7a22592f46419aac97e174d2c67021",
            "d92399adb33943bf84b8a419d92b8c45",
            "983edebbe1f74d42a0c95ffade5db7ef",
            "720fc1fe1d154f42887434eeb89fc92b",
            "5cd477ba667a4f35bdb9744f93bba655",
            "24c99cb36b324f7c96ce310d85974ca7",
            "4348f7f12f06479080f8ef05f3af7be0",
            "644e2a0b3aab406795fb2e25f93627f4",
            "99e94502bbc3421da413fa6666bef239"
          ]
        },
        "id": "bosuTEox7hrO",
        "outputId": "22af708f-14b7-40a7-f414-e327f0f8ff91"
      },
      "execution_count": 22,
      "outputs": [
        {
          "output_type": "display_data",
          "data": {
            "text/plain": [
              "VBox(children=(Label(value='Select your bear!'), FileUpload(value={}, description='Upload'), Button(descriptio…"
            ],
            "application/vnd.jupyter.widget-view+json": {
              "version_major": 2,
              "version_minor": 0,
              "model_id": "dfe60286e06d443d8944799f2d6c2609"
            }
          },
          "metadata": {}
        }
      ]
    },
    {
      "cell_type": "code",
      "source": [
        "!pip install voila\n",
        "!jupyter serverextension enable --sys-prefix voila "
      ],
      "metadata": {
        "colab": {
          "base_uri": "https://localhost:8080/",
          "height": 1000
        },
        "id": "w7h9UhMS7sW3",
        "outputId": "29dcdd23-4a36-4e98-8066-e57b8cefeb0d"
      },
      "execution_count": 23,
      "outputs": [
        {
          "output_type": "stream",
          "name": "stdout",
          "text": [
            "Looking in indexes: https://pypi.org/simple, https://us-python.pkg.dev/colab-wheels/public/simple/\n",
            "Collecting voila\n",
            "  Downloading voila-0.3.6-py3-none-any.whl (1.7 MB)\n",
            "\u001b[K     |████████████████████████████████| 1.7 MB 4.9 MB/s \n",
            "\u001b[?25hCollecting jupyter-server<2.0.0,>=1.18\n",
            "  Downloading jupyter_server-1.18.1-py3-none-any.whl (344 kB)\n",
            "\u001b[K     |████████████████████████████████| 344 kB 70.6 MB/s \n",
            "\u001b[?25hRequirement already satisfied: jupyter-core>=4.11.0 in /usr/local/lib/python3.7/dist-packages (from voila) (4.11.1)\n",
            "Requirement already satisfied: jupyter-client<8,>=6.1.3 in /usr/local/lib/python3.7/dist-packages (from voila) (6.1.12)\n",
            "Collecting websockets>=9.0\n",
            "  Downloading websockets-10.3-cp37-cp37m-manylinux_2_5_x86_64.manylinux1_x86_64.manylinux_2_12_x86_64.manylinux2010_x86_64.whl (112 kB)\n",
            "\u001b[K     |████████████████████████████████| 112 kB 59.7 MB/s \n",
            "\u001b[?25hCollecting jupyterlab-server<3,>=2.3.0\n",
            "  Downloading jupyterlab_server-2.15.1-py3-none-any.whl (54 kB)\n",
            "\u001b[K     |████████████████████████████████| 54 kB 2.5 MB/s \n",
            "\u001b[?25hCollecting nbclient<0.6,>=0.4.0\n",
            "  Downloading nbclient-0.5.13-py3-none-any.whl (70 kB)\n",
            "\u001b[K     |████████████████████████████████| 70 kB 9.7 MB/s \n",
            "\u001b[?25hCollecting nbconvert<7,>=6.4.5\n",
            "  Downloading nbconvert-6.5.3-py3-none-any.whl (563 kB)\n",
            "\u001b[K     |████████████████████████████████| 563 kB 61.6 MB/s \n",
            "\u001b[?25hRequirement already satisfied: traitlets<6,>=5.0.3 in /usr/local/lib/python3.7/dist-packages (from voila) (5.1.1)\n",
            "Requirement already satisfied: python-dateutil>=2.1 in /usr/local/lib/python3.7/dist-packages (from jupyter-client<8,>=6.1.3->voila) (2.8.2)\n",
            "Requirement already satisfied: pyzmq>=13 in /usr/local/lib/python3.7/dist-packages (from jupyter-client<8,>=6.1.3->voila) (23.2.1)\n",
            "Requirement already satisfied: tornado>=4.1 in /usr/local/lib/python3.7/dist-packages (from jupyter-client<8,>=6.1.3->voila) (5.1.1)\n",
            "Requirement already satisfied: jinja2 in /usr/local/lib/python3.7/dist-packages (from jupyter-server<2.0.0,>=1.18->voila) (2.11.3)\n",
            "Requirement already satisfied: nbformat>=5.2.0 in /usr/local/lib/python3.7/dist-packages (from jupyter-server<2.0.0,>=1.18->voila) (5.4.0)\n",
            "Collecting anyio<4,>=3.1.0\n",
            "  Downloading anyio-3.6.1-py3-none-any.whl (80 kB)\n",
            "\u001b[K     |████████████████████████████████| 80 kB 11.2 MB/s \n",
            "\u001b[?25hRequirement already satisfied: packaging in /usr/local/lib/python3.7/dist-packages (from jupyter-server<2.0.0,>=1.18->voila) (21.3)\n",
            "Collecting websocket-client\n",
            "  Downloading websocket_client-1.4.1-py3-none-any.whl (55 kB)\n",
            "\u001b[K     |████████████████████████████████| 55 kB 3.4 MB/s \n",
            "\u001b[?25hRequirement already satisfied: Send2Trash in /usr/local/lib/python3.7/dist-packages (from jupyter-server<2.0.0,>=1.18->voila) (1.8.0)\n",
            "Requirement already satisfied: terminado>=0.8.3 in /usr/local/lib/python3.7/dist-packages (from jupyter-server<2.0.0,>=1.18->voila) (0.13.3)\n",
            "Collecting prometheus-client\n",
            "  Downloading prometheus_client-0.14.1-py3-none-any.whl (59 kB)\n",
            "\u001b[K     |████████████████████████████████| 59 kB 7.2 MB/s \n",
            "\u001b[?25hCollecting tornado>=4.1\n",
            "  Downloading tornado-6.2-cp37-abi3-manylinux_2_5_x86_64.manylinux1_x86_64.manylinux_2_17_x86_64.manylinux2014_x86_64.whl (423 kB)\n",
            "\u001b[K     |████████████████████████████████| 423 kB 68.3 MB/s \n",
            "\u001b[?25hCollecting argon2-cffi\n",
            "  Downloading argon2_cffi-21.3.0-py3-none-any.whl (14 kB)\n",
            "Collecting sniffio>=1.1\n",
            "  Downloading sniffio-1.3.0-py3-none-any.whl (10 kB)\n",
            "Requirement already satisfied: typing-extensions in /usr/local/lib/python3.7/dist-packages (from anyio<4,>=3.1.0->jupyter-server<2.0.0,>=1.18->voila) (4.1.1)\n",
            "Requirement already satisfied: idna>=2.8 in /usr/local/lib/python3.7/dist-packages (from anyio<4,>=3.1.0->jupyter-server<2.0.0,>=1.18->voila) (2.10)\n",
            "Requirement already satisfied: babel in /usr/local/lib/python3.7/dist-packages (from jupyterlab-server<3,>=2.3.0->voila) (2.10.3)\n",
            "Requirement already satisfied: jsonschema>=3.0.1 in /usr/local/lib/python3.7/dist-packages (from jupyterlab-server<3,>=2.3.0->voila) (4.3.3)\n",
            "Collecting jinja2\n",
            "  Downloading Jinja2-3.1.2-py3-none-any.whl (133 kB)\n",
            "\u001b[K     |████████████████████████████████| 133 kB 72.8 MB/s \n",
            "\u001b[?25hRequirement already satisfied: requests in /usr/local/lib/python3.7/dist-packages (from jupyterlab-server<3,>=2.3.0->voila) (2.23.0)\n",
            "Requirement already satisfied: importlib-metadata>=3.6 in /usr/local/lib/python3.7/dist-packages (from jupyterlab-server<3,>=2.3.0->voila) (4.12.0)\n",
            "Collecting json5\n",
            "  Downloading json5-0.9.10-py2.py3-none-any.whl (19 kB)\n",
            "Requirement already satisfied: zipp>=0.5 in /usr/local/lib/python3.7/dist-packages (from importlib-metadata>=3.6->jupyterlab-server<3,>=2.3.0->voila) (3.8.1)\n",
            "Requirement already satisfied: MarkupSafe>=2.0 in /usr/local/lib/python3.7/dist-packages (from jinja2->jupyter-server<2.0.0,>=1.18->voila) (2.0.1)\n",
            "Requirement already satisfied: pyrsistent!=0.17.0,!=0.17.1,!=0.17.2,>=0.14.0 in /usr/local/lib/python3.7/dist-packages (from jsonschema>=3.0.1->jupyterlab-server<3,>=2.3.0->voila) (0.18.1)\n",
            "Requirement already satisfied: attrs>=17.4.0 in /usr/local/lib/python3.7/dist-packages (from jsonschema>=3.0.1->jupyterlab-server<3,>=2.3.0->voila) (22.1.0)\n",
            "Requirement already satisfied: importlib-resources>=1.4.0 in /usr/local/lib/python3.7/dist-packages (from jsonschema>=3.0.1->jupyterlab-server<3,>=2.3.0->voila) (5.9.0)\n",
            "Collecting nest-asyncio\n",
            "  Downloading nest_asyncio-1.5.5-py3-none-any.whl (5.2 kB)\n",
            "Collecting jupyterlab-pygments\n",
            "  Downloading jupyterlab_pygments-0.2.2-py2.py3-none-any.whl (21 kB)\n",
            "Requirement already satisfied: defusedxml in /usr/local/lib/python3.7/dist-packages (from nbconvert<7,>=6.4.5->voila) (0.7.1)\n",
            "Requirement already satisfied: mistune<2,>=0.8.1 in /usr/local/lib/python3.7/dist-packages (from nbconvert<7,>=6.4.5->voila) (0.8.4)\n",
            "Requirement already satisfied: beautifulsoup4 in /usr/local/lib/python3.7/dist-packages (from nbconvert<7,>=6.4.5->voila) (4.6.3)\n",
            "Requirement already satisfied: pandocfilters>=1.4.1 in /usr/local/lib/python3.7/dist-packages (from nbconvert<7,>=6.4.5->voila) (1.5.0)\n",
            "Requirement already satisfied: pygments>=2.4.1 in /usr/local/lib/python3.7/dist-packages (from nbconvert<7,>=6.4.5->voila) (2.6.1)\n",
            "Collecting tinycss2\n",
            "  Downloading tinycss2-1.1.1-py3-none-any.whl (21 kB)\n",
            "Requirement already satisfied: entrypoints>=0.2.2 in /usr/local/lib/python3.7/dist-packages (from nbconvert<7,>=6.4.5->voila) (0.4)\n",
            "Requirement already satisfied: bleach in /usr/local/lib/python3.7/dist-packages (from nbconvert<7,>=6.4.5->voila) (5.0.1)\n",
            "Requirement already satisfied: lxml in /usr/local/lib/python3.7/dist-packages (from nbconvert<7,>=6.4.5->voila) (4.9.1)\n",
            "Requirement already satisfied: fastjsonschema in /usr/local/lib/python3.7/dist-packages (from nbformat>=5.2.0->jupyter-server<2.0.0,>=1.18->voila) (2.16.1)\n",
            "Requirement already satisfied: six>=1.5 in /usr/local/lib/python3.7/dist-packages (from python-dateutil>=2.1->jupyter-client<8,>=6.1.3->voila) (1.15.0)\n",
            "Requirement already satisfied: ptyprocess in /usr/local/lib/python3.7/dist-packages (from terminado>=0.8.3->jupyter-server<2.0.0,>=1.18->voila) (0.7.0)\n",
            "Collecting argon2-cffi-bindings\n",
            "  Downloading argon2_cffi_bindings-21.2.0-cp36-abi3-manylinux_2_17_x86_64.manylinux2014_x86_64.whl (86 kB)\n",
            "\u001b[K     |████████████████████████████████| 86 kB 5.1 MB/s \n",
            "\u001b[?25hRequirement already satisfied: cffi>=1.0.1 in /usr/local/lib/python3.7/dist-packages (from argon2-cffi-bindings->argon2-cffi->jupyter-server<2.0.0,>=1.18->voila) (1.15.1)\n",
            "Requirement already satisfied: pycparser in /usr/local/lib/python3.7/dist-packages (from cffi>=1.0.1->argon2-cffi-bindings->argon2-cffi->jupyter-server<2.0.0,>=1.18->voila) (2.21)\n",
            "Requirement already satisfied: pytz>=2015.7 in /usr/local/lib/python3.7/dist-packages (from babel->jupyterlab-server<3,>=2.3.0->voila) (2022.2.1)\n",
            "Requirement already satisfied: webencodings in /usr/local/lib/python3.7/dist-packages (from bleach->nbconvert<7,>=6.4.5->voila) (0.5.1)\n",
            "Requirement already satisfied: pyparsing!=3.0.5,>=2.0.2 in /usr/local/lib/python3.7/dist-packages (from packaging->jupyter-server<2.0.0,>=1.18->voila) (3.0.9)\n",
            "Requirement already satisfied: certifi>=2017.4.17 in /usr/local/lib/python3.7/dist-packages (from requests->jupyterlab-server<3,>=2.3.0->voila) (2022.6.15)\n",
            "Requirement already satisfied: urllib3!=1.25.0,!=1.25.1,<1.26,>=1.21.1 in /usr/local/lib/python3.7/dist-packages (from requests->jupyterlab-server<3,>=2.3.0->voila) (1.25.11)\n",
            "Requirement already satisfied: chardet<4,>=3.0.2 in /usr/local/lib/python3.7/dist-packages (from requests->jupyterlab-server<3,>=2.3.0->voila) (3.0.4)\n",
            "Installing collected packages: tornado, nest-asyncio, tinycss2, sniffio, nbclient, jupyterlab-pygments, jinja2, argon2-cffi-bindings, websocket-client, prometheus-client, nbconvert, argon2-cffi, anyio, jupyter-server, json5, websockets, jupyterlab-server, voila\n",
            "  Attempting uninstall: tornado\n",
            "    Found existing installation: tornado 5.1.1\n",
            "    Uninstalling tornado-5.1.1:\n",
            "      Successfully uninstalled tornado-5.1.1\n",
            "  Attempting uninstall: jinja2\n",
            "    Found existing installation: Jinja2 2.11.3\n",
            "    Uninstalling Jinja2-2.11.3:\n",
            "      Successfully uninstalled Jinja2-2.11.3\n",
            "  Attempting uninstall: nbconvert\n",
            "    Found existing installation: nbconvert 5.6.1\n",
            "    Uninstalling nbconvert-5.6.1:\n",
            "      Successfully uninstalled nbconvert-5.6.1\n",
            "\u001b[31mERROR: pip's dependency resolver does not currently take into account all the packages that are installed. This behaviour is the source of the following dependency conflicts.\n",
            "google-colab 1.0.0 requires tornado~=5.1.0, but you have tornado 6.2 which is incompatible.\n",
            "flask 1.1.4 requires Jinja2<3.0,>=2.10.1, but you have jinja2 3.1.2 which is incompatible.\u001b[0m\n",
            "Successfully installed anyio-3.6.1 argon2-cffi-21.3.0 argon2-cffi-bindings-21.2.0 jinja2-3.1.2 json5-0.9.10 jupyter-server-1.18.1 jupyterlab-pygments-0.2.2 jupyterlab-server-2.15.1 nbclient-0.5.13 nbconvert-6.5.3 nest-asyncio-1.5.5 prometheus-client-0.14.1 sniffio-1.3.0 tinycss2-1.1.1 tornado-6.2 voila-0.3.6 websocket-client-1.4.1 websockets-10.3\n"
          ]
        },
        {
          "output_type": "display_data",
          "data": {
            "application/vnd.colab-display-data+json": {
              "pip_warning": {
                "packages": [
                  "tornado"
                ]
              }
            }
          },
          "metadata": {}
        },
        {
          "output_type": "stream",
          "name": "stdout",
          "text": [
            "Enabling: voila\n",
            "- Writing config: /usr/etc/jupyter\n",
            "    - Validating...\n",
            "      voila  \u001b[32mOK\u001b[0m\n"
          ]
        }
      ]
    }
  ]
}